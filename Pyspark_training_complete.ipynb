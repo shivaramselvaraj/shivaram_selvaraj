{
 "cells": [
  {
   "cell_type": "code",
   "execution_count": 2,
   "metadata": {},
   "outputs": [],
   "source": [
    "from pyspark.sql import SparkSession\n",
    "\n",
    "spark = SparkSession.builder.appName('EXAMPLE').getOrCreate()"
   ]
  },
  {
   "cell_type": "code",
   "execution_count": 77,
   "metadata": {},
   "outputs": [],
   "source": [
    "# Reading a CSV file into DataFrame\n",
    "\n",
    "sample_df = spark.read.csv('C:/Users/Lenovo/Desktop/test.csv')"
   ]
  },
  {
   "cell_type": "code",
   "execution_count": 78,
   "metadata": {},
   "outputs": [
    {
     "name": "stdout",
     "output_type": "stream",
     "text": [
      "+---+---+---+---+---------------+\n",
      "|_c0|_c1|_c2|_c3|            _c4|\n",
      "+---+---+---+---+---------------+\n",
      "|5.1|3.5|1.4|0.2|    Iris-setosa|\n",
      "|4.9|  3|1.4|0.2|    Iris-setosa|\n",
      "|4.7|3.2|1.3|0.2|    Iris-setosa|\n",
      "|4.6|3.1|1.5|0.2|    Iris-setosa|\n",
      "|  5|3.6|1.4|0.2|    Iris-setosa|\n",
      "|5.4|3.9|1.7|0.4|    Iris-setosa|\n",
      "|4.6|3.4|1.4|0.3|    Iris-setosa|\n",
      "|  5|3.4|1.5|0.2|    Iris-setosa|\n",
      "|  7|3.2|4.7|1.4|Iris-versicolor|\n",
      "|6.4|3.2|4.5|1.5|Iris-versicolor|\n",
      "|6.9|3.1|4.9|1.5|Iris-versicolor|\n",
      "|5.5|2.3|  4|1.3|Iris-versicolor|\n",
      "|6.5|2.8|4.6|1.5|Iris-versicolor|\n",
      "|5.7|2.8|4.5|1.3|Iris-versicolor|\n",
      "|6.3|3.3|4.7|1.6|Iris-versicolor|\n",
      "|4.9|2.4|3.3|  1|Iris-versicolor|\n",
      "|6.6|2.9|4.6|1.3|Iris-versicolor|\n",
      "|5.2|2.7|3.9|1.4|Iris-versicolor|\n",
      "|  5|  2|3.5|  1|Iris-versicolor|\n",
      "|5.9|  3|4.2|1.5|Iris-versicolor|\n",
      "+---+---+---+---+---------------+\n",
      "only showing top 20 rows\n",
      "\n"
     ]
    }
   ],
   "source": [
    "sample_df.show()"
   ]
  },
  {
   "cell_type": "code",
   "execution_count": 81,
   "metadata": {},
   "outputs": [
    {
     "data": {
      "text/plain": [
       "35"
      ]
     },
     "execution_count": 81,
     "metadata": {},
     "output_type": "execute_result"
    }
   ],
   "source": [
    "# Count - To count the number of rows in DataFrame\n",
    "sample_df.count()"
   ]
  },
  {
   "cell_type": "code",
   "execution_count": 82,
   "metadata": {},
   "outputs": [
    {
     "data": {
      "text/plain": [
       "pyspark.sql.dataframe.DataFrame"
      ]
     },
     "execution_count": 82,
     "metadata": {},
     "output_type": "execute_result"
    }
   ],
   "source": [
    "# Type - To find the datatype of single column\n",
    "# dtype - To find the datatypes of all columns in a dataframe\n",
    "\n",
    "type(sample_df)"
   ]
  },
  {
   "cell_type": "code",
   "execution_count": 83,
   "metadata": {},
   "outputs": [
    {
     "name": "stdout",
     "output_type": "stream",
     "text": [
      "root\n",
      " |-- sepal_length: string (nullable = true)\n",
      " |-- sepal_width: string (nullable = true)\n",
      " |-- petal_length: string (nullable = true)\n",
      " |-- petal_width: string (nullable = true)\n",
      " |-- classes: string (nullable = true)\n",
      "\n"
     ]
    }
   ],
   "source": [
    "# To assign column names to our dataframe\n",
    "\n",
    "sample_df = sample_df.toDF('sepal_length', 'sepal_width', 'petal_length', 'petal_width', 'classes')\n",
    "\n",
    "sample_df.printSchema()"
   ]
  },
  {
   "cell_type": "code",
   "execution_count": 84,
   "metadata": {},
   "outputs": [
    {
     "data": {
      "text/plain": [
       "pyspark.sql.dataframe.DataFrame"
      ]
     },
     "execution_count": 84,
     "metadata": {},
     "output_type": "execute_result"
    }
   ],
   "source": [
    "type(sample_df)"
   ]
  },
  {
   "cell_type": "code",
   "execution_count": 85,
   "metadata": {},
   "outputs": [],
   "source": [
    "# Where - to filter the records\n",
    "# alternative to filter\n",
    "# Type 1 df.filter(df.age > 3).collect()\n",
    "# Type 2 df.filter(\"age > 3\").collect()\n",
    "\n",
    "query_1 = sample_df.where(sample_df.petal_width > 1).select(sample_df.sepal_length, sample_df.petal_length)"
   ]
  },
  {
   "cell_type": "code",
   "execution_count": 86,
   "metadata": {},
   "outputs": [
    {
     "name": "stdout",
     "output_type": "stream",
     "text": [
      "+------------+------------+\n",
      "|sepal_length|petal_length|\n",
      "+------------+------------+\n",
      "|         5.7|           5|\n",
      "|         5.8|         5.1|\n",
      "|         6.4|         5.3|\n",
      "|         7.7|         6.7|\n",
      "|         7.7|         6.9|\n",
      "|         6.9|         5.7|\n",
      "|         5.6|         4.9|\n",
      "|         7.7|         6.7|\n",
      "|         6.7|         5.7|\n",
      "+------------+------------+\n",
      "\n"
     ]
    }
   ],
   "source": [
    "query_1.show()"
   ]
  },
  {
   "cell_type": "code",
   "execution_count": 87,
   "metadata": {},
   "outputs": [],
   "source": [
    "# Using AND operator in Where condition\n",
    "\n",
    "query_1 = sample_df.where((sample_df.petal_width > 0.2) & (sample_df.classes == \"Iris-setosa\")).select(sample_df.sepal_length, sample_df.petal_length)   "
   ]
  },
  {
   "cell_type": "code",
   "execution_count": 88,
   "metadata": {},
   "outputs": [
    {
     "name": "stdout",
     "output_type": "stream",
     "text": [
      "+------------+------------+\n",
      "|sepal_length|petal_length|\n",
      "+------------+------------+\n",
      "|         5.4|         1.7|\n",
      "|         4.6|         1.4|\n",
      "+------------+------------+\n",
      "\n"
     ]
    }
   ],
   "source": [
    "query_1.show()"
   ]
  },
  {
   "cell_type": "code",
   "execution_count": 91,
   "metadata": {},
   "outputs": [],
   "source": [
    "# finding Mean and Count using Group By and storing to result in newly created Alias column\n",
    "\n",
    "from pyspark.sql import functions as F\n",
    "\n",
    "query_2 = sample_df.groupBy(sample_df.classes).agg(F.mean(sample_df.sepal_length).alias(\"sepal_length_mean\"),\n",
    "                               F.count(sample_df.sepal_length).alias(\"sepal_length_count\"))"
   ]
  },
  {
   "cell_type": "code",
   "execution_count": 92,
   "metadata": {},
   "outputs": [
    {
     "data": {
      "text/plain": [
       "DataFrame[classes: string, sepal_length_mean: double, sepal_length_count: bigint]"
      ]
     },
     "execution_count": 92,
     "metadata": {},
     "output_type": "execute_result"
    }
   ],
   "source": [
    "query_2"
   ]
  },
  {
   "cell_type": "code",
   "execution_count": 93,
   "metadata": {},
   "outputs": [
    {
     "name": "stdout",
     "output_type": "stream",
     "text": [
      "+---------------+------------------+------------------+\n",
      "|        classes| sepal_length_mean|sepal_length_count|\n",
      "+---------------+------------------+------------------+\n",
      "| Iris-virginica|6.6000000000000005|                14|\n",
      "|    Iris-setosa|            4.9125|                 8|\n",
      "|Iris-versicolor| 5.992307692307692|                13|\n",
      "+---------------+------------------+------------------+\n",
      "\n"
     ]
    }
   ],
   "source": [
    "query_2.show()"
   ]
  },
  {
   "cell_type": "code",
   "execution_count": 94,
   "metadata": {},
   "outputs": [
    {
     "data": {
      "text/plain": [
       "pyspark.sql.dataframe.DataFrame"
      ]
     },
     "execution_count": 94,
     "metadata": {},
     "output_type": "execute_result"
    }
   ],
   "source": [
    "type(query_2)"
   ]
  },
  {
   "cell_type": "code",
   "execution_count": 96,
   "metadata": {},
   "outputs": [],
   "source": [
    "# Join using smaple_df and query_2\n",
    "# Note: Error will be thrown if key column from both tables are same\n",
    "\n",
    "join_df = sample_df.join(query_2, query_2.classes == sample_df.classes)"
   ]
  },
  {
   "cell_type": "code",
   "execution_count": 97,
   "metadata": {},
   "outputs": [],
   "source": [
    "join_df = sample_df.join(query_2, \"classes\")"
   ]
  },
  {
   "cell_type": "code",
   "execution_count": 98,
   "metadata": {},
   "outputs": [
    {
     "data": {
      "text/plain": [
       "pyspark.sql.dataframe.DataFrame"
      ]
     },
     "execution_count": 98,
     "metadata": {},
     "output_type": "execute_result"
    }
   ],
   "source": [
    "type(join_df)"
   ]
  },
  {
   "cell_type": "code",
   "execution_count": 99,
   "metadata": {},
   "outputs": [
    {
     "name": "stdout",
     "output_type": "stream",
     "text": [
      "+---------------+------------+-----------+------------+-----------+------------------+------------------+\n",
      "|classes        |sepal_length|sepal_width|petal_length|petal_width|sepal_length_mean |sepal_length_count|\n",
      "+---------------+------------+-----------+------------+-----------+------------------+------------------+\n",
      "|Iris-setosa    |5.1         |3.5        |1.4         |0.2        |4.9125            |8                 |\n",
      "|Iris-setosa    |4.9         |3          |1.4         |0.2        |4.9125            |8                 |\n",
      "|Iris-setosa    |4.7         |3.2        |1.3         |0.2        |4.9125            |8                 |\n",
      "|Iris-setosa    |4.6         |3.1        |1.5         |0.2        |4.9125            |8                 |\n",
      "|Iris-setosa    |5           |3.6        |1.4         |0.2        |4.9125            |8                 |\n",
      "|Iris-setosa    |5.4         |3.9        |1.7         |0.4        |4.9125            |8                 |\n",
      "|Iris-setosa    |4.6         |3.4        |1.4         |0.3        |4.9125            |8                 |\n",
      "|Iris-setosa    |5           |3.4        |1.5         |0.2        |4.9125            |8                 |\n",
      "|Iris-versicolor|7           |3.2        |4.7         |1.4        |5.992307692307692 |13                |\n",
      "|Iris-versicolor|6.4         |3.2        |4.5         |1.5        |5.992307692307692 |13                |\n",
      "|Iris-versicolor|6.9         |3.1        |4.9         |1.5        |5.992307692307692 |13                |\n",
      "|Iris-versicolor|5.5         |2.3        |4           |1.3        |5.992307692307692 |13                |\n",
      "|Iris-versicolor|6.5         |2.8        |4.6         |1.5        |5.992307692307692 |13                |\n",
      "|Iris-versicolor|5.7         |2.8        |4.5         |1.3        |5.992307692307692 |13                |\n",
      "|Iris-versicolor|6.3         |3.3        |4.7         |1.6        |5.992307692307692 |13                |\n",
      "|Iris-versicolor|4.9         |2.4        |3.3         |1          |5.992307692307692 |13                |\n",
      "|Iris-versicolor|6.6         |2.9        |4.6         |1.3        |5.992307692307692 |13                |\n",
      "|Iris-versicolor|5.2         |2.7        |3.9         |1.4        |5.992307692307692 |13                |\n",
      "|Iris-versicolor|5           |2          |3.5         |1          |5.992307692307692 |13                |\n",
      "|Iris-versicolor|5.9         |3          |4.2         |1.5        |5.992307692307692 |13                |\n",
      "|Iris-versicolor|6           |2.2        |4           |1          |5.992307692307692 |13                |\n",
      "|Iris-virginica |5.7         |2.5        |5           |2          |6.6000000000000005|14                |\n",
      "|Iris-virginica |5.8         |2.8        |5.1         |2.4        |6.6000000000000005|14                |\n",
      "|Iris-virginica |6.4         |3.2        |5.3         |2.3        |6.6000000000000005|14                |\n",
      "|Iris-virginica |6.5         |3          |5.5         |1.8        |6.6000000000000005|14                |\n",
      "|Iris-virginica |7.7         |3.8        |6.7         |2.2        |6.6000000000000005|14                |\n",
      "|Iris-virginica |7.7         |2.6        |6.9         |2.3        |6.6000000000000005|14                |\n",
      "|Iris-virginica |6           |2.2        |5           |1.5        |6.6000000000000005|14                |\n",
      "|Iris-virginica |6.9         |3.2        |5.7         |2.3        |6.6000000000000005|14                |\n",
      "|Iris-virginica |5.6         |2.8        |4.9         |2          |6.6000000000000005|14                |\n",
      "|Iris-virginica |7.7         |2.8        |6.7         |2          |6.6000000000000005|14                |\n",
      "|Iris-virginica |6.3         |2.7        |4.9         |1.8        |6.6000000000000005|14                |\n",
      "|Iris-virginica |6.7         |3.3        |5.7         |2.1        |6.6000000000000005|14                |\n",
      "|Iris-virginica |7.2         |3.2        |6           |1.8        |6.6000000000000005|14                |\n",
      "|Iris-virginica |6.2         |2.8        |4.8         |1.8        |6.6000000000000005|14                |\n",
      "+---------------+------------+-----------+------------+-----------+------------------+------------------+\n",
      "\n"
     ]
    }
   ],
   "source": [
    "join_df.show(100,False)"
   ]
  },
  {
   "cell_type": "code",
   "execution_count": 100,
   "metadata": {},
   "outputs": [
    {
     "data": {
      "text/plain": [
       "35"
      ]
     },
     "execution_count": 100,
     "metadata": {},
     "output_type": "execute_result"
    }
   ],
   "source": [
    "join_df.count()"
   ]
  },
  {
   "cell_type": "code",
   "execution_count": 101,
   "metadata": {},
   "outputs": [
    {
     "data": {
      "text/plain": [
       "DataFrame[classes: string, sepal_length: string, sepal_width: string, petal_length: string, petal_width: string, sepal_length_mean: double, sepal_length_count: bigint]"
      ]
     },
     "execution_count": 101,
     "metadata": {},
     "output_type": "execute_result"
    }
   ],
   "source": [
    "join_df.cache()"
   ]
  },
  {
   "cell_type": "code",
   "execution_count": 103,
   "metadata": {},
   "outputs": [
    {
     "name": "stdout",
     "output_type": "stream",
     "text": [
      "+---------------+------------+-----------+------------+-----------+------------------+------------------+\n",
      "|classes        |sepal_length|sepal_width|petal_length|petal_width|sepal_length_mean |sepal_length_count|\n",
      "+---------------+------------+-----------+------------+-----------+------------------+------------------+\n",
      "|Iris-setosa    |5.1         |3.5        |1.4         |0.2        |4.9125            |8                 |\n",
      "|Iris-setosa    |4.9         |3          |1.4         |0.2        |4.9125            |8                 |\n",
      "|Iris-setosa    |4.7         |3.2        |1.3         |0.2        |4.9125            |8                 |\n",
      "|Iris-setosa    |4.6         |3.1        |1.5         |0.2        |4.9125            |8                 |\n",
      "|Iris-setosa    |5           |3.6        |1.4         |0.2        |4.9125            |8                 |\n",
      "|Iris-setosa    |5.4         |3.9        |1.7         |0.4        |4.9125            |8                 |\n",
      "|Iris-setosa    |4.6         |3.4        |1.4         |0.3        |4.9125            |8                 |\n",
      "|Iris-setosa    |5           |3.4        |1.5         |0.2        |4.9125            |8                 |\n",
      "|Iris-versicolor|7           |3.2        |4.7         |1.4        |5.992307692307692 |13                |\n",
      "|Iris-versicolor|6.4         |3.2        |4.5         |1.5        |5.992307692307692 |13                |\n",
      "|Iris-versicolor|6.9         |3.1        |4.9         |1.5        |5.992307692307692 |13                |\n",
      "|Iris-versicolor|5.5         |2.3        |4           |1.3        |5.992307692307692 |13                |\n",
      "|Iris-versicolor|6.5         |2.8        |4.6         |1.5        |5.992307692307692 |13                |\n",
      "|Iris-versicolor|5.7         |2.8        |4.5         |1.3        |5.992307692307692 |13                |\n",
      "|Iris-versicolor|6.3         |3.3        |4.7         |1.6        |5.992307692307692 |13                |\n",
      "|Iris-versicolor|4.9         |2.4        |3.3         |1          |5.992307692307692 |13                |\n",
      "|Iris-versicolor|6.6         |2.9        |4.6         |1.3        |5.992307692307692 |13                |\n",
      "|Iris-versicolor|5.2         |2.7        |3.9         |1.4        |5.992307692307692 |13                |\n",
      "|Iris-versicolor|5           |2          |3.5         |1          |5.992307692307692 |13                |\n",
      "|Iris-versicolor|5.9         |3          |4.2         |1.5        |5.992307692307692 |13                |\n",
      "|Iris-versicolor|6           |2.2        |4           |1          |5.992307692307692 |13                |\n",
      "|Iris-virginica |5.7         |2.5        |5           |2          |6.6000000000000005|14                |\n",
      "|Iris-virginica |5.8         |2.8        |5.1         |2.4        |6.6000000000000005|14                |\n",
      "|Iris-virginica |6.4         |3.2        |5.3         |2.3        |6.6000000000000005|14                |\n",
      "|Iris-virginica |6.5         |3          |5.5         |1.8        |6.6000000000000005|14                |\n",
      "|Iris-virginica |7.7         |3.8        |6.7         |2.2        |6.6000000000000005|14                |\n",
      "|Iris-virginica |7.7         |2.6        |6.9         |2.3        |6.6000000000000005|14                |\n",
      "|Iris-virginica |6           |2.2        |5           |1.5        |6.6000000000000005|14                |\n",
      "|Iris-virginica |6.9         |3.2        |5.7         |2.3        |6.6000000000000005|14                |\n",
      "|Iris-virginica |5.6         |2.8        |4.9         |2          |6.6000000000000005|14                |\n",
      "|Iris-virginica |7.7         |2.8        |6.7         |2          |6.6000000000000005|14                |\n",
      "|Iris-virginica |6.3         |2.7        |4.9         |1.8        |6.6000000000000005|14                |\n",
      "|Iris-virginica |6.7         |3.3        |5.7         |2.1        |6.6000000000000005|14                |\n",
      "|Iris-virginica |7.2         |3.2        |6           |1.8        |6.6000000000000005|14                |\n",
      "|Iris-virginica |6.2         |2.8        |4.8         |1.8        |6.6000000000000005|14                |\n",
      "+---------------+------------+-----------+------------+-----------+------------------+------------------+\n",
      "\n"
     ]
    }
   ],
   "source": [
    "# Could also use 'left_outer'\n",
    "# here join key column is \"classes\" for both dataframes. So mentoin it once inside inverted commas to avoid errors \n",
    "\n",
    "left_join_df = sample_df.join(query_2, \"classes\", how='left') \n",
    "left_join_df.show(150,False)"
   ]
  },
  {
   "cell_type": "code",
   "execution_count": 104,
   "metadata": {},
   "outputs": [
    {
     "data": {
      "text/plain": [
       "35"
      ]
     },
     "execution_count": 104,
     "metadata": {},
     "output_type": "execute_result"
    }
   ],
   "source": [
    "left_join_df.count()"
   ]
  },
  {
   "cell_type": "code",
   "execution_count": 105,
   "metadata": {},
   "outputs": [
    {
     "name": "stdout",
     "output_type": "stream",
     "text": [
      "+---------------+------------+-----------+------------+-----------+------------------+------------------+\n",
      "|classes        |sepal_length|sepal_width|petal_length|petal_width|sepal_length_mean |sepal_length_count|\n",
      "+---------------+------------+-----------+------------+-----------+------------------+------------------+\n",
      "|Iris-virginica |6.2         |2.8        |4.8         |1.8        |6.6000000000000005|14                |\n",
      "|Iris-virginica |7.2         |3.2        |6           |1.8        |6.6000000000000005|14                |\n",
      "|Iris-virginica |6.7         |3.3        |5.7         |2.1        |6.6000000000000005|14                |\n",
      "|Iris-virginica |6.3         |2.7        |4.9         |1.8        |6.6000000000000005|14                |\n",
      "|Iris-virginica |7.7         |2.8        |6.7         |2          |6.6000000000000005|14                |\n",
      "|Iris-virginica |5.6         |2.8        |4.9         |2          |6.6000000000000005|14                |\n",
      "|Iris-virginica |6.9         |3.2        |5.7         |2.3        |6.6000000000000005|14                |\n",
      "|Iris-virginica |6           |2.2        |5           |1.5        |6.6000000000000005|14                |\n",
      "|Iris-virginica |7.7         |2.6        |6.9         |2.3        |6.6000000000000005|14                |\n",
      "|Iris-virginica |7.7         |3.8        |6.7         |2.2        |6.6000000000000005|14                |\n",
      "|Iris-virginica |6.5         |3          |5.5         |1.8        |6.6000000000000005|14                |\n",
      "|Iris-virginica |6.4         |3.2        |5.3         |2.3        |6.6000000000000005|14                |\n",
      "|Iris-virginica |5.8         |2.8        |5.1         |2.4        |6.6000000000000005|14                |\n",
      "|Iris-virginica |5.7         |2.5        |5           |2          |6.6000000000000005|14                |\n",
      "|Iris-setosa    |5           |3.4        |1.5         |0.2        |4.9125            |8                 |\n",
      "|Iris-setosa    |4.6         |3.4        |1.4         |0.3        |4.9125            |8                 |\n",
      "|Iris-setosa    |5.4         |3.9        |1.7         |0.4        |4.9125            |8                 |\n",
      "|Iris-setosa    |5           |3.6        |1.4         |0.2        |4.9125            |8                 |\n",
      "|Iris-setosa    |4.6         |3.1        |1.5         |0.2        |4.9125            |8                 |\n",
      "|Iris-setosa    |4.7         |3.2        |1.3         |0.2        |4.9125            |8                 |\n",
      "|Iris-setosa    |4.9         |3          |1.4         |0.2        |4.9125            |8                 |\n",
      "|Iris-setosa    |5.1         |3.5        |1.4         |0.2        |4.9125            |8                 |\n",
      "|Iris-versicolor|6           |2.2        |4           |1          |5.992307692307692 |13                |\n",
      "|Iris-versicolor|5.9         |3          |4.2         |1.5        |5.992307692307692 |13                |\n",
      "|Iris-versicolor|5           |2          |3.5         |1          |5.992307692307692 |13                |\n",
      "|Iris-versicolor|5.2         |2.7        |3.9         |1.4        |5.992307692307692 |13                |\n",
      "|Iris-versicolor|6.6         |2.9        |4.6         |1.3        |5.992307692307692 |13                |\n",
      "|Iris-versicolor|4.9         |2.4        |3.3         |1          |5.992307692307692 |13                |\n",
      "|Iris-versicolor|6.3         |3.3        |4.7         |1.6        |5.992307692307692 |13                |\n",
      "|Iris-versicolor|5.7         |2.8        |4.5         |1.3        |5.992307692307692 |13                |\n",
      "|Iris-versicolor|6.5         |2.8        |4.6         |1.5        |5.992307692307692 |13                |\n",
      "|Iris-versicolor|5.5         |2.3        |4           |1.3        |5.992307692307692 |13                |\n",
      "|Iris-versicolor|6.9         |3.1        |4.9         |1.5        |5.992307692307692 |13                |\n",
      "|Iris-versicolor|6.4         |3.2        |4.5         |1.5        |5.992307692307692 |13                |\n",
      "|Iris-versicolor|7           |3.2        |4.7         |1.4        |5.992307692307692 |13                |\n",
      "+---------------+------------+-----------+------------+-----------+------------------+------------------+\n",
      "\n"
     ]
    }
   ],
   "source": [
    "# Could also use 'left_outer'\n",
    "\n",
    "right_join_df = sample_df.join(query_2, \"classes\",how='right') \n",
    "right_join_df.show(150,False)"
   ]
  },
  {
   "cell_type": "code",
   "execution_count": 108,
   "metadata": {},
   "outputs": [
    {
     "data": {
      "text/plain": [
       "35"
      ]
     },
     "execution_count": 108,
     "metadata": {},
     "output_type": "execute_result"
    }
   ],
   "source": [
    "# Right join\n",
    "\n",
    "right_join_df.count()"
   ]
  },
  {
   "cell_type": "code",
   "execution_count": 110,
   "metadata": {},
   "outputs": [
    {
     "name": "stdout",
     "output_type": "stream",
     "text": [
      "+---------------+------------+-----------+------------+-----------+------------------+------------------+\n",
      "|classes        |sepal_length|sepal_width|petal_length|petal_width|sepal_length_mean |sepal_length_count|\n",
      "+---------------+------------+-----------+------------+-----------+------------------+------------------+\n",
      "|Iris-virginica |5.7         |2.5        |5           |2          |6.6000000000000005|14                |\n",
      "|Iris-virginica |5.8         |2.8        |5.1         |2.4        |6.6000000000000005|14                |\n",
      "|Iris-virginica |6.4         |3.2        |5.3         |2.3        |6.6000000000000005|14                |\n",
      "|Iris-virginica |6.5         |3          |5.5         |1.8        |6.6000000000000005|14                |\n",
      "|Iris-virginica |7.7         |3.8        |6.7         |2.2        |6.6000000000000005|14                |\n",
      "|Iris-virginica |7.7         |2.6        |6.9         |2.3        |6.6000000000000005|14                |\n",
      "|Iris-virginica |6           |2.2        |5           |1.5        |6.6000000000000005|14                |\n",
      "|Iris-virginica |6.9         |3.2        |5.7         |2.3        |6.6000000000000005|14                |\n",
      "|Iris-virginica |5.6         |2.8        |4.9         |2          |6.6000000000000005|14                |\n",
      "|Iris-virginica |7.7         |2.8        |6.7         |2          |6.6000000000000005|14                |\n",
      "|Iris-virginica |6.3         |2.7        |4.9         |1.8        |6.6000000000000005|14                |\n",
      "|Iris-virginica |6.7         |3.3        |5.7         |2.1        |6.6000000000000005|14                |\n",
      "|Iris-virginica |7.2         |3.2        |6           |1.8        |6.6000000000000005|14                |\n",
      "|Iris-virginica |6.2         |2.8        |4.8         |1.8        |6.6000000000000005|14                |\n",
      "|Iris-setosa    |5.1         |3.5        |1.4         |0.2        |4.9125            |8                 |\n",
      "|Iris-setosa    |4.9         |3          |1.4         |0.2        |4.9125            |8                 |\n",
      "|Iris-setosa    |4.7         |3.2        |1.3         |0.2        |4.9125            |8                 |\n",
      "|Iris-setosa    |4.6         |3.1        |1.5         |0.2        |4.9125            |8                 |\n",
      "|Iris-setosa    |5           |3.6        |1.4         |0.2        |4.9125            |8                 |\n",
      "|Iris-setosa    |5.4         |3.9        |1.7         |0.4        |4.9125            |8                 |\n",
      "|Iris-setosa    |4.6         |3.4        |1.4         |0.3        |4.9125            |8                 |\n",
      "|Iris-setosa    |5           |3.4        |1.5         |0.2        |4.9125            |8                 |\n",
      "|Iris-versicolor|7           |3.2        |4.7         |1.4        |5.992307692307692 |13                |\n",
      "|Iris-versicolor|6.4         |3.2        |4.5         |1.5        |5.992307692307692 |13                |\n",
      "|Iris-versicolor|6.9         |3.1        |4.9         |1.5        |5.992307692307692 |13                |\n",
      "|Iris-versicolor|5.5         |2.3        |4           |1.3        |5.992307692307692 |13                |\n",
      "|Iris-versicolor|6.5         |2.8        |4.6         |1.5        |5.992307692307692 |13                |\n",
      "|Iris-versicolor|5.7         |2.8        |4.5         |1.3        |5.992307692307692 |13                |\n",
      "|Iris-versicolor|6.3         |3.3        |4.7         |1.6        |5.992307692307692 |13                |\n",
      "|Iris-versicolor|4.9         |2.4        |3.3         |1          |5.992307692307692 |13                |\n",
      "|Iris-versicolor|6.6         |2.9        |4.6         |1.3        |5.992307692307692 |13                |\n",
      "|Iris-versicolor|5.2         |2.7        |3.9         |1.4        |5.992307692307692 |13                |\n",
      "|Iris-versicolor|5           |2          |3.5         |1          |5.992307692307692 |13                |\n",
      "|Iris-versicolor|5.9         |3          |4.2         |1.5        |5.992307692307692 |13                |\n",
      "|Iris-versicolor|6           |2.2        |4           |1          |5.992307692307692 |13                |\n",
      "+---------------+------------+-----------+------------+-----------+------------------+------------------+\n",
      "\n"
     ]
    }
   ],
   "source": [
    "# Could also use 'full_outer'\n",
    "\n",
    "full_outer_join_df = sample_df.join(query_2, \"classes\",how='full') \n",
    "full_outer_join_df.show(150,False)"
   ]
  },
  {
   "cell_type": "code",
   "execution_count": 111,
   "metadata": {},
   "outputs": [
    {
     "data": {
      "text/plain": [
       "35"
      ]
     },
     "execution_count": 111,
     "metadata": {},
     "output_type": "execute_result"
    }
   ],
   "source": [
    "full_outer_join_df.count()"
   ]
  },
  {
   "cell_type": "code",
   "execution_count": null,
   "metadata": {},
   "outputs": [],
   "source": [
    "# Cross join\n",
    "\n",
    "#df.crossJoin(df2.select(\"height\")).select(\"age\", \"name\", \"height\").collect()\n",
    "\n",
    "#sample_df.crossJoin(query_2.select(\"classes\")).select(\"sepal_length\",\"sepal_width\").collect()"
   ]
  },
  {
   "cell_type": "code",
   "execution_count": null,
   "metadata": {},
   "outputs": [],
   "source": [
    "#cross_join_df.display()"
   ]
  },
  {
   "cell_type": "code",
   "execution_count": 112,
   "metadata": {},
   "outputs": [
    {
     "name": "stdout",
     "output_type": "stream",
     "text": [
      "+-------------------------+---+---+\n",
      "|petal_length_sepal_length|4.6|5.4|\n",
      "+-------------------------+---+---+\n",
      "|                      1.4|  1|  0|\n",
      "|                      1.7|  0|  1|\n",
      "+-------------------------+---+---+\n",
      "\n"
     ]
    }
   ],
   "source": [
    "# Crosstab\n",
    "# first colummn(petal_length) will be made distinct and then second column(sepal_length) gives the count of values in that column  \n",
    "\n",
    "query_1.stat.crosstab(\"petal_length\", \"sepal_length\").show()"
   ]
  },
  {
   "cell_type": "code",
   "execution_count": 113,
   "metadata": {},
   "outputs": [],
   "source": [
    "# cast # Typcasting\n",
    "# astype\n",
    "\n",
    "typecast_df = sample_df.select(sample_df.petal_length.cast(\"integer\"), sample_df.sepal_length.cast(\"integer\"))"
   ]
  },
  {
   "cell_type": "code",
   "execution_count": 114,
   "metadata": {},
   "outputs": [
    {
     "data": {
      "text/plain": [
       "DataFrame[petal_length: int, sepal_length: int]"
      ]
     },
     "metadata": {},
     "output_type": "display_data"
    }
   ],
   "source": [
    "display(typecast_df)"
   ]
  },
  {
   "cell_type": "code",
   "execution_count": 115,
   "metadata": {},
   "outputs": [
    {
     "name": "stdout",
     "output_type": "stream",
     "text": [
      "+-----------------+-----------------+\n",
      "|min(petal_length)|max(petal_length)|\n",
      "+-----------------+-----------------+\n",
      "|                1|                6|\n",
      "+-----------------+-----------------+\n",
      "\n"
     ]
    }
   ],
   "source": [
    "# Mean, Min, Max\n",
    "\n",
    "typecast_df.select([min(\"petal_length\"), max(\"petal_length\")]).show()"
   ]
  },
  {
   "cell_type": "code",
   "execution_count": 128,
   "metadata": {},
   "outputs": [],
   "source": [
    "# Random number generation\n",
    "\n",
    "from pyspark.sql.functions import rand, randn\n",
    "\n",
    "numeric_df = sqlContext.range(0, 10).withColumn('uniform', rand(seed=10)).withColumn('normal', randn(seed=27))"
   ]
  },
  {
   "cell_type": "code",
   "execution_count": 129,
   "metadata": {},
   "outputs": [
    {
     "name": "stdout",
     "output_type": "stream",
     "text": [
      "+---+-------------------+--------------------+\n",
      "| id|            uniform|              normal|\n",
      "+---+-------------------+--------------------+\n",
      "|  0|0.41371264720975787|  0.5888539012978773|\n",
      "|  1| 0.7311719281896606|  0.8645537008427937|\n",
      "|  2| 0.1982919638208397| 0.06157382353970104|\n",
      "|  3|0.12714181165849525|  0.3623040918178586|\n",
      "|  4| 0.7604318153406678|-0.49575204523675975|\n",
      "|  5|0.12030715258495939|  1.0854146699817222|\n",
      "|  6|0.12131363910425985| -0.5284523629183004|\n",
      "|  7|0.44292918521277047| -0.4798519469521663|\n",
      "|  8| 0.8898784253886249| -0.8820294772950535|\n",
      "|  9|0.03650707717266999| -2.1591956435415334|\n",
      "+---+-------------------+--------------------+\n",
      "\n"
     ]
    }
   ],
   "source": [
    "numeric_df.show()"
   ]
  },
  {
   "cell_type": "code",
   "execution_count": 121,
   "metadata": {},
   "outputs": [
    {
     "name": "stdout",
     "output_type": "stream",
     "text": [
      "+-------+------------------+-------------------+--------------------+\n",
      "|summary|                id|            uniform|              normal|\n",
      "+-------+------------------+-------------------+--------------------+\n",
      "|  count|                10|                 10|                  10|\n",
      "|   mean|               4.5| 0.3841685645682706|-0.15825812884638607|\n",
      "| stddev|3.0276503540974917|0.31309395532409323|   0.963345903544872|\n",
      "|    min|                 0|0.03650707717266999| -2.1591956435415334|\n",
      "|    max|                 9| 0.8898784253886249|  1.0854146699817222|\n",
      "+-------+------------------+-------------------+--------------------+\n",
      "\n"
     ]
    }
   ],
   "source": [
    "numeric_df.describe().show()"
   ]
  },
  {
   "cell_type": "code",
   "execution_count": 122,
   "metadata": {},
   "outputs": [
    {
     "name": "stdout",
     "output_type": "stream",
     "text": [
      "+------------------+-------------------+------------------+\n",
      "|      avg(uniform)|       min(uniform)|      max(uniform)|\n",
      "+------------------+-------------------+------------------+\n",
      "|0.3841685645682706|0.03650707717266999|0.8898784253886249|\n",
      "+------------------+-------------------+------------------+\n",
      "\n"
     ]
    }
   ],
   "source": [
    "from pyspark.sql.functions import mean, min, max\n",
    "\n",
    "numeric_df.select([mean('uniform'), min('uniform'), max('uniform')]).show()"
   ]
  },
  {
   "cell_type": "code",
   "execution_count": 123,
   "metadata": {},
   "outputs": [
    {
     "name": "stdout",
     "output_type": "stream",
     "text": [
      "+---+-------------------+--------------------+\n",
      "| id|            uniform|              normal|\n",
      "+---+-------------------+--------------------+\n",
      "|  0|0.41371264720975787|  0.5888539012978773|\n",
      "|  1| 0.7311719281896606|  0.8645537008427937|\n",
      "|  2| 0.1982919638208397| 0.06157382353970104|\n",
      "|  3|0.12714181165849525|  0.3623040918178586|\n",
      "|  4| 0.7604318153406678|-0.49575204523675975|\n",
      "|  5|0.12030715258495939|  1.0854146699817222|\n",
      "|  6|0.12131363910425985| -0.5284523629183004|\n",
      "|  7|0.44292918521277047| -0.4798519469521663|\n",
      "|  8| 0.8898784253886249| -0.8820294772950535|\n",
      "|  9|0.03650707717266999| -2.1591956435415334|\n",
      "+---+-------------------+--------------------+\n",
      "\n"
     ]
    }
   ],
   "source": [
    "numeric_df.show()"
   ]
  },
  {
   "cell_type": "code",
   "execution_count": 126,
   "metadata": {},
   "outputs": [
    {
     "data": {
      "text/plain": [
       "['id', 'uniform', 'normal']"
      ]
     },
     "execution_count": 126,
     "metadata": {},
     "output_type": "execute_result"
    }
   ],
   "source": [
    "numeric_df.columns"
   ]
  },
  {
   "cell_type": "markdown",
   "metadata": {},
   "source": [
    "# Views\n",
    "#createGlobalTempView\n",
    "#createOrReplaceTempView\n",
    "#createTempView\n",
    "\n",
    "numeric_df.createGlobalTempView(\"numeric_tab\")\n",
    "df2 = spark.sql(\"select * from global_temp.numeric_tab\")\n",
    "df2.show()"
   ]
  },
  {
   "cell_type": "code",
   "execution_count": 79,
   "metadata": {},
   "outputs": [
    {
     "name": "stdout",
     "output_type": "stream",
     "text": [
      "+-------+-------------------+\n",
      "|summary|            uniform|\n",
      "+-------+-------------------+\n",
      "|  count|                 10|\n",
      "|   mean| 0.3841685645682706|\n",
      "| stddev|0.31309395532409323|\n",
      "|    min|0.03650707717266999|\n",
      "|    max| 0.8898784253886249|\n",
      "+-------+-------------------+\n",
      "\n"
     ]
    }
   ],
   "source": [
    "# describe for one column\n",
    "\n",
    "numeric_df.describe(['uniform']).show()"
   ]
  },
  {
   "cell_type": "code",
   "execution_count": 130,
   "metadata": {},
   "outputs": [
    {
     "name": "stdout",
     "output_type": "stream",
     "text": [
      "+-------+------------------+-------------------+--------------------+\n",
      "|summary|                id|            uniform|              normal|\n",
      "+-------+------------------+-------------------+--------------------+\n",
      "|  count|                10|                 10|                  10|\n",
      "|   mean|               4.5| 0.3841685645682706|-0.15825812884638607|\n",
      "| stddev|3.0276503540974917|0.31309395532409323|   0.963345903544872|\n",
      "|    min|                 0|0.03650707717266999| -2.1591956435415334|\n",
      "|    max|                 9| 0.8898784253886249|  1.0854146699817222|\n",
      "+-------+------------------+-------------------+--------------------+\n",
      "\n"
     ]
    }
   ],
   "source": [
    "# describe for all columns in a dataframe\n",
    "\n",
    "numeric_df.describe().show()"
   ]
  },
  {
   "cell_type": "code",
   "execution_count": 131,
   "metadata": {},
   "outputs": [
    {
     "data": {
      "text/plain": [
       "35"
      ]
     },
     "execution_count": 131,
     "metadata": {},
     "output_type": "execute_result"
    }
   ],
   "source": [
    "# Distinct\n",
    "\n",
    "sample_df.distinct().count()"
   ]
  },
  {
   "cell_type": "code",
   "execution_count": 132,
   "metadata": {},
   "outputs": [
    {
     "data": {
      "text/plain": [
       "3"
      ]
     },
     "execution_count": 132,
     "metadata": {},
     "output_type": "execute_result"
    }
   ],
   "source": [
    "# Distinct for one particular column\n",
    "\n",
    "sample_df.select('classes').distinct().count()"
   ]
  },
  {
   "cell_type": "code",
   "execution_count": 133,
   "metadata": {},
   "outputs": [],
   "source": [
    "drop_df = numeric_df.drop('id')"
   ]
  },
  {
   "cell_type": "code",
   "execution_count": 134,
   "metadata": {},
   "outputs": [
    {
     "data": {
      "text/plain": [
       "pyspark.sql.dataframe.DataFrame"
      ]
     },
     "execution_count": 134,
     "metadata": {},
     "output_type": "execute_result"
    }
   ],
   "source": [
    "type(drop_df)"
   ]
  },
  {
   "cell_type": "code",
   "execution_count": 135,
   "metadata": {},
   "outputs": [
    {
     "name": "stdout",
     "output_type": "stream",
     "text": [
      "+-------------------+--------------------+\n",
      "|            uniform|              normal|\n",
      "+-------------------+--------------------+\n",
      "|0.41371264720975787|  0.5888539012978773|\n",
      "| 0.7311719281896606|  0.8645537008427937|\n",
      "| 0.1982919638208397| 0.06157382353970104|\n",
      "|0.12714181165849525|  0.3623040918178586|\n",
      "| 0.7604318153406678|-0.49575204523675975|\n",
      "|0.12030715258495939|  1.0854146699817222|\n",
      "|0.12131363910425985| -0.5284523629183004|\n",
      "|0.44292918521277047| -0.4798519469521663|\n",
      "| 0.8898784253886249| -0.8820294772950535|\n",
      "|0.03650707717266999| -2.1591956435415334|\n",
      "+-------------------+--------------------+\n",
      "\n"
     ]
    }
   ],
   "source": [
    "drop_df.show()"
   ]
  },
  {
   "cell_type": "code",
   "execution_count": 137,
   "metadata": {},
   "outputs": [
    {
     "name": "stdout",
     "output_type": "stream",
     "text": [
      "+---+------+-----+\n",
      "|age|height| name|\n",
      "+---+------+-----+\n",
      "|  5|    80|Alice|\n",
      "|  5|    80|Alice|\n",
      "| 10|    80|Alice|\n",
      "+---+------+-----+\n",
      "\n"
     ]
    }
   ],
   "source": [
    "# here toDF() is used to convert a list of rows into a DataFrame\n",
    "# toDF() is also used to give column names to a DataFrame\n",
    "# Drop duplicate records in a dataframe\n",
    "\n",
    "from pyspark.sql import Row\n",
    "duplicate_df = sc.parallelize([ \\\n",
    "     Row(name='Alice', age=5, height=80), \\\n",
    "     Row(name='Alice', age=5, height=80), \\\n",
    "     Row(name='Alice', age=10, height=80)]).toDF()\n",
    "duplicate_df.show()"
   ]
  },
  {
   "cell_type": "code",
   "execution_count": 138,
   "metadata": {},
   "outputs": [
    {
     "name": "stdout",
     "output_type": "stream",
     "text": [
      "+---+------+-----+\n",
      "|age|height| name|\n",
      "+---+------+-----+\n",
      "|  5|    80|Alice|\n",
      "| 10|    80|Alice|\n",
      "+---+------+-----+\n",
      "\n"
     ]
    }
   ],
   "source": [
    "remove_duplicate_df = duplicate_df.dropDuplicates()\n",
    "remove_duplicate_df.show()"
   ]
  },
  {
   "cell_type": "code",
   "execution_count": 139,
   "metadata": {},
   "outputs": [
    {
     "name": "stdout",
     "output_type": "stream",
     "text": [
      "+---+------+-----+\n",
      "|age|height| name|\n",
      "+---+------+-----+\n",
      "|  5|    80|Alice|\n",
      "|  5|    80|Alice|\n",
      "| 10|    80|Alice|\n",
      "+---+------+-----+\n",
      "\n"
     ]
    }
   ],
   "source": [
    "# Drop null value records in a dataframe\n",
    "\n",
    "duplicate_df.na.drop().show()"
   ]
  },
  {
   "cell_type": "code",
   "execution_count": 140,
   "metadata": {},
   "outputs": [
    {
     "data": {
      "text/plain": [
       "[('age', 'bigint'), ('height', 'bigint'), ('name', 'string')]"
      ]
     },
     "execution_count": 140,
     "metadata": {},
     "output_type": "execute_result"
    }
   ],
   "source": [
    "# To find the datatype of all columns in a dataframe\n",
    "\n",
    "duplicate_df.dtypes"
   ]
  },
  {
   "cell_type": "code",
   "execution_count": 141,
   "metadata": {},
   "outputs": [
    {
     "name": "stdout",
     "output_type": "stream",
     "text": [
      "== Physical Plan ==\n",
      "Scan ExistingRDD[age#1795L,height#1796L,name#1797]\n"
     ]
    }
   ],
   "source": [
    "duplicate_df.explain()"
   ]
  },
  {
   "cell_type": "code",
   "execution_count": 142,
   "metadata": {},
   "outputs": [
    {
     "data": {
      "text/plain": [
       "[Row(name='Alice', new_age=15),\n",
       " Row(name='Alice', new_age=15),\n",
       " Row(name='Alice', new_age=20)]"
      ]
     },
     "execution_count": 142,
     "metadata": {},
     "output_type": "execute_result"
    }
   ],
   "source": [
    "# Select columns\n",
    "duplicate_df.select(duplicate_df.name, (duplicate_df.age + 10).alias('new_age')).collect()"
   ]
  },
  {
   "cell_type": "code",
   "execution_count": 143,
   "metadata": {},
   "outputs": [
    {
     "data": {
      "text/plain": [
       "[Row(age=10, height=80, name='Alice'),\n",
       " Row(age=5, height=80, name='Alice'),\n",
       " Row(age=5, height=80, name='Alice')]"
      ]
     },
     "execution_count": 143,
     "metadata": {},
     "output_type": "execute_result"
    }
   ],
   "source": [
    "# Sorting columns\n",
    "duplicate_df.sort(duplicate_df.age.desc()).collect()"
   ]
  },
  {
   "cell_type": "code",
   "execution_count": 144,
   "metadata": {},
   "outputs": [
    {
     "data": {
      "text/plain": [
       "[Row(age=5, height=80, name='Alice'), Row(age=5, height=80, name='Alice')]"
      ]
     },
     "execution_count": 144,
     "metadata": {},
     "output_type": "execute_result"
    }
   ],
   "source": [
    "# To fetch the first n rows\n",
    "\n",
    "duplicate_df.take(2)"
   ]
  },
  {
   "cell_type": "code",
   "execution_count": 145,
   "metadata": {},
   "outputs": [
    {
     "data": {
      "text/plain": [
       "'{\"age\":5,\"height\":80,\"name\":\"Alice\"}'"
      ]
     },
     "execution_count": 145,
     "metadata": {},
     "output_type": "execute_result"
    }
   ],
   "source": [
    "# Converts a dataframe to JSON\n",
    "# and also fetch the first row using first()\n",
    "\n",
    "duplicate_df.toJSON().first()"
   ]
  },
  {
   "cell_type": "code",
   "execution_count": 146,
   "metadata": {},
   "outputs": [
    {
     "data": {
      "text/html": [
       "<div>\n",
       "<style scoped>\n",
       "    .dataframe tbody tr th:only-of-type {\n",
       "        vertical-align: middle;\n",
       "    }\n",
       "\n",
       "    .dataframe tbody tr th {\n",
       "        vertical-align: top;\n",
       "    }\n",
       "\n",
       "    .dataframe thead th {\n",
       "        text-align: right;\n",
       "    }\n",
       "</style>\n",
       "<table border=\"1\" class=\"dataframe\">\n",
       "  <thead>\n",
       "    <tr style=\"text-align: right;\">\n",
       "      <th></th>\n",
       "      <th>age</th>\n",
       "      <th>height</th>\n",
       "      <th>name</th>\n",
       "    </tr>\n",
       "  </thead>\n",
       "  <tbody>\n",
       "    <tr>\n",
       "      <th>0</th>\n",
       "      <td>5</td>\n",
       "      <td>80</td>\n",
       "      <td>Alice</td>\n",
       "    </tr>\n",
       "    <tr>\n",
       "      <th>1</th>\n",
       "      <td>5</td>\n",
       "      <td>80</td>\n",
       "      <td>Alice</td>\n",
       "    </tr>\n",
       "    <tr>\n",
       "      <th>2</th>\n",
       "      <td>10</td>\n",
       "      <td>80</td>\n",
       "      <td>Alice</td>\n",
       "    </tr>\n",
       "  </tbody>\n",
       "</table>\n",
       "</div>"
      ],
      "text/plain": [
       "   age  height   name\n",
       "0    5      80  Alice\n",
       "1    5      80  Alice\n",
       "2   10      80  Alice"
      ]
     },
     "execution_count": 146,
     "metadata": {},
     "output_type": "execute_result"
    }
   ],
   "source": [
    "# Converting a PySpark DataFrame to Pandas DataFrame\n",
    "# Note This method should only be used if the resulting Pandas’s DataFrame is expected to be small, as all the data is loaded into the driver’s memory.\n",
    "\n",
    "duplicate_df.toPandas()"
   ]
  },
  {
   "cell_type": "code",
   "execution_count": 118,
   "metadata": {},
   "outputs": [],
   "source": [
    "# Pivot"
   ]
  },
  {
   "cell_type": "code",
   "execution_count": 119,
   "metadata": {},
   "outputs": [
    {
     "name": "stdout",
     "output_type": "stream",
     "text": [
      "+-----+---------------------------+\n",
      "| name|((age >= 2) AND (age <= 4))|\n",
      "+-----+---------------------------+\n",
      "|Alice|                      false|\n",
      "|Alice|                      false|\n",
      "|Alice|                      false|\n",
      "+-----+---------------------------+\n",
      "\n"
     ]
    }
   ],
   "source": [
    "# between with inclusive range\n",
    "\n",
    "duplicate_df.select(duplicate_df.name, duplicate_df.age.between(2, 4)).show()"
   ]
  },
  {
   "cell_type": "code",
   "execution_count": 120,
   "metadata": {},
   "outputs": [],
   "source": [
    "# Structfield\n",
    "# getField"
   ]
  },
  {
   "cell_type": "code",
   "execution_count": 147,
   "metadata": {},
   "outputs": [
    {
     "name": "stdout",
     "output_type": "stream",
     "text": [
      "+-----+-------------------------------------+\n",
      "| name|CASE WHEN (age > 3) THEN 1 ELSE 0 END|\n",
      "+-----+-------------------------------------+\n",
      "|Alice|                                    1|\n",
      "|Alice|                                    1|\n",
      "|Alice|                                    1|\n",
      "+-----+-------------------------------------+\n",
      "\n"
     ]
    }
   ],
   "source": [
    "# Case # When\n",
    "# otherwise\n",
    "#from pyspark.sql import functions as F\n",
    "\n",
    "duplicate_df.select(duplicate_df.name, F.when(duplicate_df.age > 3, 1).otherwise(0)).show()"
   ]
  },
  {
   "cell_type": "code",
   "execution_count": 1,
   "metadata": {},
   "outputs": [],
   "source": [
    "# substr"
   ]
  },
  {
   "cell_type": "code",
   "execution_count": 149,
   "metadata": {},
   "outputs": [],
   "source": [
    "# Row \n",
    "\n",
    "from pyspark.sql import *\n",
    "\n",
    "department1 = Row(id='123456', name='Computer Science')\n",
    "department2 = Row(id='789012', name='Mechanical Engineering')\n",
    "department3 = Row(id='345678', name='Theater and Drama')\n",
    "department4 = Row(id='901234', name='Indoor Recreation')"
   ]
  },
  {
   "cell_type": "code",
   "execution_count": 150,
   "metadata": {},
   "outputs": [
    {
     "data": {
      "text/plain": [
       "pyspark.sql.types.Row"
      ]
     },
     "execution_count": 150,
     "metadata": {},
     "output_type": "execute_result"
    }
   ],
   "source": [
    "type(department1)"
   ]
  },
  {
   "cell_type": "code",
   "execution_count": 151,
   "metadata": {},
   "outputs": [],
   "source": [
    "Employee = Row(\"firstName\", \"lastName\", \"email\", \"salary\")\n",
    "employee1 = Employee('michael', 'armbrust', 'no-reply@berkeley.edu', 100000)\n",
    "employee2 = Employee('xiangrui', 'meng', 'no-reply@stanford.edu', 120000)\n",
    "employee3 = Employee('matei', None, 'no-reply@waterloo.edu', 140000)\n",
    "employee4 = Employee('matei', None, 'no-reply@waterloo.edu', 140000)"
   ]
  },
  {
   "cell_type": "code",
   "execution_count": 152,
   "metadata": {},
   "outputs": [
    {
     "data": {
      "text/plain": [
       "pyspark.sql.types.Row"
      ]
     },
     "execution_count": 152,
     "metadata": {},
     "output_type": "execute_result"
    }
   ],
   "source": [
    "type(employee1)"
   ]
  },
  {
   "cell_type": "code",
   "execution_count": 153,
   "metadata": {},
   "outputs": [],
   "source": [
    "departmentWithEmployees1 = Row(department=department1, employees=[employee1, employee2])\n",
    "departmentWithEmployees2 = Row(department=department2, employees=[employee3, employee4])\n",
    "departmentWithEmployees3 = Row(department=department3, employees=[employee1, employee4])\n",
    "departmentWithEmployees4 = Row(department=department4, employees=[employee2, employee3])"
   ]
  },
  {
   "cell_type": "code",
   "execution_count": 154,
   "metadata": {},
   "outputs": [
    {
     "data": {
      "text/plain": [
       "DataFrame[department: struct<id:string,name:string>, employees: array<struct<firstName:string,lastName:string,email:string,salary:bigint>>]"
      ]
     },
     "metadata": {},
     "output_type": "display_data"
    },
    {
     "data": {
      "text/plain": [
       "DataFrame[department: struct<id:string,name:string>, employees: array<struct<firstName:string,lastName:string,email:string,salary:bigint>>]"
      ]
     },
     "metadata": {},
     "output_type": "display_data"
    }
   ],
   "source": [
    "# Creating DataFrame from list of Rows\n",
    "\n",
    "departmentsWithEmployeesSeq1 = [departmentWithEmployees1, departmentWithEmployees2]\n",
    "df1 = spark.createDataFrame(departmentsWithEmployeesSeq1)\n",
    "\n",
    "display(df1)\n",
    "\n",
    "departmentsWithEmployeesSeq2 = [departmentWithEmployees3, departmentWithEmployees4]\n",
    "df2 = spark.createDataFrame(departmentsWithEmployeesSeq2)\n",
    "\n",
    "display(df2)"
   ]
  },
  {
   "cell_type": "code",
   "execution_count": 156,
   "metadata": {},
   "outputs": [
    {
     "name": "stdout",
     "output_type": "stream",
     "text": [
      "+--------------------+--------------------+\n",
      "|          department|           employees|\n",
      "+--------------------+--------------------+\n",
      "|[123456,Computer ...|[[michael,armbrus...|\n",
      "|[789012,Mechanica...|[[matei,null,no-r...|\n",
      "+--------------------+--------------------+\n",
      "\n"
     ]
    }
   ],
   "source": [
    "df1.show()"
   ]
  },
  {
   "cell_type": "code",
   "execution_count": 157,
   "metadata": {},
   "outputs": [
    {
     "name": "stdout",
     "output_type": "stream",
     "text": [
      "+--------------------+--------------------+\n",
      "|          department|           employees|\n",
      "+--------------------+--------------------+\n",
      "|[345678,Theater a...|[[michael,armbrus...|\n",
      "|[901234,Indoor Re...|[[xiangrui,meng,n...|\n",
      "+--------------------+--------------------+\n",
      "\n"
     ]
    }
   ],
   "source": [
    "df2.show()"
   ]
  },
  {
   "cell_type": "code",
   "execution_count": 158,
   "metadata": {},
   "outputs": [
    {
     "data": {
      "text/plain": [
       "DataFrame[department: struct<id:string,name:string>, employees: array<struct<firstName:string,lastName:string,email:string,salary:bigint>>]"
      ]
     },
     "metadata": {},
     "output_type": "display_data"
    }
   ],
   "source": [
    "# Union\n",
    "\n",
    "unionDF = df1.unionAll(df2)\n",
    "display(unionDF)"
   ]
  },
  {
   "cell_type": "code",
   "execution_count": 159,
   "metadata": {},
   "outputs": [
    {
     "name": "stdout",
     "output_type": "stream",
     "text": [
      "+--------------------+--------------------+\n",
      "|          department|           employees|\n",
      "+--------------------+--------------------+\n",
      "|[123456,Computer ...|[[michael,armbrus...|\n",
      "|[789012,Mechanica...|[[matei,null,no-r...|\n",
      "|[345678,Theater a...|[[michael,armbrus...|\n",
      "|[901234,Indoor Re...|[[xiangrui,meng,n...|\n",
      "+--------------------+--------------------+\n",
      "\n"
     ]
    }
   ],
   "source": [
    "unionDF.show()"
   ]
  },
  {
   "cell_type": "code",
   "execution_count": 224,
   "metadata": {},
   "outputs": [
    {
     "name": "stdout",
     "output_type": "stream",
     "text": [
      "+---------+--------+--------------------+------+\n",
      "|firstName|lastName|               email|salary|\n",
      "+---------+--------+--------------------+------+\n",
      "|  michael|armbrust|no-reply@berkeley...|100000|\n",
      "| xiangrui|    meng|no-reply@stanford...|120000|\n",
      "|    matei|    null|no-reply@waterloo...|140000|\n",
      "|    matei|    null|no-reply@waterloo...|140000|\n",
      "|  michael|armbrust|no-reply@berkeley...|100000|\n",
      "|    matei|    null|no-reply@waterloo...|140000|\n",
      "| xiangrui|    meng|no-reply@stanford...|120000|\n",
      "|    matei|    null|no-reply@waterloo...|140000|\n",
      "+---------+--------+--------------------+------+\n",
      "\n"
     ]
    }
   ],
   "source": [
    "# assigning column names using selectExpr\n",
    "\n",
    "from pyspark.sql import *\n",
    "from pyspark.sql.functions import explode\n",
    "df = unionDF.select(explode(\"employees\").alias(\"e\"))\n",
    "explodeDF = df.selectExpr(\"e.firstName\", \"e.lastName\", \"e.email\", \"e.salary\")\n",
    "\n",
    "explodeDF.show()"
   ]
  },
  {
   "cell_type": "code",
   "execution_count": 207,
   "metadata": {},
   "outputs": [
    {
     "data": {
      "text/plain": [
       "DataFrame[firstName: string, lastName: string, email: string, salary: bigint]"
      ]
     },
     "metadata": {},
     "output_type": "display_data"
    },
    {
     "name": "stdout",
     "output_type": "stream",
     "text": [
      "+---------+--------+--------------------+------+\n",
      "|firstName|lastName|               email|salary|\n",
      "+---------+--------+--------------------+------+\n",
      "| xiangrui|    meng|no-reply@stanford...|120000|\n",
      "| xiangrui|    meng|no-reply@stanford...|120000|\n",
      "+---------+--------+--------------------+------+\n",
      "\n"
     ]
    }
   ],
   "source": [
    "# filter 1\n",
    "\n",
    "filterDF = explodeDF.filter(explodeDF.firstName == \"xiangrui\").sort(explodeDF.lastName)\n",
    "display(filterDF)\n",
    "filterDF.show()"
   ]
  },
  {
   "cell_type": "code",
   "execution_count": 208,
   "metadata": {},
   "outputs": [
    {
     "name": "stdout",
     "output_type": "stream",
     "text": [
      "+---------+--------+--------------------+------+\n",
      "|firstName|lastName|               email|salary|\n",
      "+---------+--------+--------------------+------+\n",
      "| xiangrui|    meng|no-reply@stanford...|120000|\n",
      "| xiangrui|    meng|no-reply@stanford...|120000|\n",
      "+---------+--------+--------------------+------+\n",
      "\n"
     ]
    }
   ],
   "source": [
    "# filter 2\n",
    "from pyspark.sql.functions import col\n",
    "\n",
    "filterDF = explodeDF.filter(col(\"firstName\") == \"xiangrui\").sort(explodeDF.lastName)\n",
    "filterDF.show()"
   ]
  },
  {
   "cell_type": "code",
   "execution_count": 209,
   "metadata": {},
   "outputs": [
    {
     "data": {
      "text/plain": [
       "DataFrame[firstName: string, lastName: string, email: string, salary: bigint]"
      ]
     },
     "metadata": {},
     "output_type": "display_data"
    },
    {
     "name": "stdout",
     "output_type": "stream",
     "text": [
      "+---------+--------+--------------------+------+\n",
      "|firstName|lastName|               email|salary|\n",
      "+---------+--------+--------------------+------+\n",
      "|  michael|armbrust|no-reply@berkeley...|100000|\n",
      "|  michael|armbrust|no-reply@berkeley...|100000|\n",
      "| xiangrui|    meng|no-reply@stanford...|120000|\n",
      "| xiangrui|    meng|no-reply@stanford...|120000|\n",
      "+---------+--------+--------------------+------+\n",
      "\n"
     ]
    }
   ],
   "source": [
    "# Where - alternative of Filter\n",
    "from pyspark.sql.functions import col, asc\n",
    "\n",
    "whereDF = explodeDF.where((col(\"firstName\") == \"xiangrui\") | (col(\"firstName\") == \"michael\")).sort(asc(\"lastName\"))\n",
    "display(whereDF)\n",
    "whereDF.show()"
   ]
  },
  {
   "cell_type": "code",
   "execution_count": 210,
   "metadata": {},
   "outputs": [
    {
     "data": {
      "text/plain": [
       "DataFrame[firstName: string, lastName: string, email: string, salary: bigint]"
      ]
     },
     "metadata": {},
     "output_type": "display_data"
    }
   ],
   "source": [
    "from pyspark.sql.functions import col, asc\n",
    "#Or\n",
    "# Use `|` instead of `or`\n",
    "filterDF = explodeDF.filter((col(\"firstName\") == \"xiangrui\") | (col(\"firstName\") == \"michael\")).sort(asc(\"lastName\"))\n",
    "display(filterDF)"
   ]
  },
  {
   "cell_type": "code",
   "execution_count": 211,
   "metadata": {},
   "outputs": [
    {
     "data": {
      "text/plain": [
       "DataFrame[firstName: string, lastName: string, email: string, salary: bigint]"
      ]
     },
     "metadata": {},
     "output_type": "display_data"
    },
    {
     "name": "stdout",
     "output_type": "stream",
     "text": [
      "+---------+--------+--------------------+------+\n",
      "|firstName|lastName|               email|salary|\n",
      "+---------+--------+--------------------+------+\n",
      "|  michael|armbrust|no-reply@berkeley...|100000|\n",
      "| xiangrui|    meng|no-reply@stanford...|120000|\n",
      "|    matei|      --|no-reply@waterloo...|140000|\n",
      "|    matei|      --|no-reply@waterloo...|140000|\n",
      "|  michael|armbrust|no-reply@berkeley...|100000|\n",
      "|    matei|      --|no-reply@waterloo...|140000|\n",
      "| xiangrui|    meng|no-reply@stanford...|120000|\n",
      "|    matei|      --|no-reply@waterloo...|140000|\n",
      "+---------+--------+--------------------+------+\n",
      "\n"
     ]
    }
   ],
   "source": [
    "# Replacing null with 'x' values\n",
    "\n",
    "nonNullDF = explodeDF.fillna(\"--\")\n",
    "display(nonNullDF)\n",
    "nonNullDF.show()"
   ]
  },
  {
   "cell_type": "code",
   "execution_count": 212,
   "metadata": {},
   "outputs": [
    {
     "data": {
      "text/plain": [
       "DataFrame[firstName: string, lastName: string, email: string, salary: bigint]"
      ]
     },
     "metadata": {},
     "output_type": "display_data"
    },
    {
     "name": "stdout",
     "output_type": "stream",
     "text": [
      "+---------+--------+--------------------+------+\n",
      "|firstName|lastName|               email|salary|\n",
      "+---------+--------+--------------------+------+\n",
      "|    matei|    null|no-reply@waterloo...|140000|\n",
      "|    matei|    null|no-reply@waterloo...|140000|\n",
      "|    matei|    null|no-reply@waterloo...|140000|\n",
      "|    matei|    null|no-reply@waterloo...|140000|\n",
      "+---------+--------+--------------------+------+\n",
      "\n"
     ]
    }
   ],
   "source": [
    "# Fiterter out null value columns\n",
    "\n",
    "filterNonNullDF = explodeDF.filter(col(\"firstName\").isNull() | col(\"lastName\").isNull()).sort(\"email\")\n",
    "display(filterNonNullDF)\n",
    "filterNonNullDF.show()"
   ]
  },
  {
   "cell_type": "code",
   "execution_count": 213,
   "metadata": {},
   "outputs": [],
   "source": [
    "# Count distinct\n",
    "\n",
    "from pyspark.sql.functions import countDistinct\n",
    "\n",
    "countDistinctDF = explodeDF.select(\"firstName\", \"lastName\")\\\n",
    "  .groupBy(\"firstName\", \"lastName\")\\\n",
    "  .agg(countDistinct(\"firstName\"))\n",
    "\n"
   ]
  },
  {
   "cell_type": "code",
   "execution_count": 214,
   "metadata": {},
   "outputs": [
    {
     "name": "stdout",
     "output_type": "stream",
     "text": [
      "+---------+--------+-------------------------+\n",
      "|firstName|lastName|count(DISTINCT firstName)|\n",
      "+---------+--------+-------------------------+\n",
      "|    matei|    null|                        1|\n",
      "| xiangrui|    meng|                        1|\n",
      "|  michael|armbrust|                        1|\n",
      "+---------+--------+-------------------------+\n",
      "\n"
     ]
    }
   ],
   "source": [
    "countDistinctDF.show()"
   ]
  },
  {
   "cell_type": "code",
   "execution_count": 215,
   "metadata": {},
   "outputs": [],
   "source": [
    "# register the DataFrame as a temp table so that we can query it using SQL\n",
    "explodeDF.registerTempTable(\"df_example\")"
   ]
  },
  {
   "cell_type": "code",
   "execution_count": 216,
   "metadata": {},
   "outputs": [],
   "source": [
    "# Perform the same query as the DataFrame above and return ``explain``\n",
    "countDistinctDF_sql = spark.sql(\"SELECT firstName, lastName, count(distinct firstName) as distinct_first_names FROM df_example GROUP BY firstName, lastName\")\n"
   ]
  },
  {
   "cell_type": "code",
   "execution_count": 217,
   "metadata": {},
   "outputs": [
    {
     "name": "stdout",
     "output_type": "stream",
     "text": [
      "+---------+--------+--------------------+\n",
      "|firstName|lastName|distinct_first_names|\n",
      "+---------+--------+--------------------+\n",
      "|    matei|    null|                   1|\n",
      "| xiangrui|    meng|                   1|\n",
      "|  michael|armbrust|                   1|\n",
      "+---------+--------+--------------------+\n",
      "\n"
     ]
    }
   ],
   "source": [
    "countDistinctDF_sql.show()"
   ]
  },
  {
   "cell_type": "code",
   "execution_count": 173,
   "metadata": {},
   "outputs": [
    {
     "data": {
      "text/plain": [
       "DataFrame[sum(salary): bigint]"
      ]
     },
     "metadata": {},
     "output_type": "display_data"
    }
   ],
   "source": [
    "salarySumDF = explodeDF.agg({\"salary\" : \"sum\"})\n",
    "display(salarySumDF)"
   ]
  },
  {
   "cell_type": "code",
   "execution_count": 174,
   "metadata": {},
   "outputs": [
    {
     "name": "stdout",
     "output_type": "stream",
     "text": [
      "+-----------+\n",
      "|sum(salary)|\n",
      "+-----------+\n",
      "|    1000000|\n",
      "+-----------+\n",
      "\n"
     ]
    }
   ],
   "source": [
    "salarySumDF.show()"
   ]
  },
  {
   "cell_type": "code",
   "execution_count": 175,
   "metadata": {},
   "outputs": [
    {
     "data": {
      "text/plain": [
       "pyspark.sql.column.Column"
      ]
     },
     "execution_count": 175,
     "metadata": {},
     "output_type": "execute_result"
    }
   ],
   "source": [
    "type(explodeDF.salary)"
   ]
  },
  {
   "cell_type": "code",
   "execution_count": 176,
   "metadata": {},
   "outputs": [
    {
     "name": "stdout",
     "output_type": "stream",
     "text": [
      "+-------+------------------+\n",
      "|summary|            salary|\n",
      "+-------+------------------+\n",
      "|  count|                 8|\n",
      "|   mean|          125000.0|\n",
      "| stddev|17728.105208558365|\n",
      "|    min|            100000|\n",
      "|    max|            140000|\n",
      "+-------+------------------+\n",
      "\n"
     ]
    }
   ],
   "source": [
    "# Descriptive statistics of a column\n",
    "\n",
    "explodeDF.describe(\"salary\").show()"
   ]
  },
  {
   "cell_type": "code",
   "execution_count": 177,
   "metadata": {},
   "outputs": [
    {
     "data": {
      "text/plain": [
       "<matplotlib.axes._subplots.AxesSubplot at 0x2210a749908>"
      ]
     },
     "execution_count": 177,
     "metadata": {},
     "output_type": "execute_result"
    },
    {
     "data": {
      "text/plain": [
       "<Figure size 432x288 with 0 Axes>"
      ]
     },
     "metadata": {},
     "output_type": "display_data"
    },
    {
     "data": {
      "image/png": "[encoded data removed]",
      "text/plain": [
       "<Figure size 432x288 with 1 Axes>"
      ]
     },
     "metadata": {},
     "output_type": "display_data"
    }
   ],
   "source": [
    "import pandas as pd\n",
    "import matplotlib.pyplot as plt\n",
    "plt.clf()\n",
    "pdDF = nonNullDF.toPandas()\n",
    "pdDF.plot(x='firstName', y='salary', kind='bar', rot=45)\n"
   ]
  },
  {
   "cell_type": "code",
   "execution_count": 178,
   "metadata": {},
   "outputs": [],
   "source": [
    "import numpy as np\n",
    "\n",
    "random_numbers = sc.parallelize([np.random.rand() for _ in range(1000)], 4)"
   ]
  },
  {
   "cell_type": "code",
   "execution_count": 179,
   "metadata": {},
   "outputs": [
    {
     "data": {
      "text/plain": [
       "ParallelCollectionRDD[711] at parallelize at PythonRDD.scala:540"
      ]
     },
     "execution_count": 179,
     "metadata": {},
     "output_type": "execute_result"
    }
   ],
   "source": [
    "random_numbers"
   ]
  },
  {
   "cell_type": "code",
   "execution_count": 180,
   "metadata": {},
   "outputs": [
    {
     "data": {
      "text/plain": [
       "[0.18610008856633709, 0.5846345890554729]"
      ]
     },
     "execution_count": 180,
     "metadata": {},
     "output_type": "execute_result"
    }
   ],
   "source": [
    "random_numbers.take(2)"
   ]
  },
  {
   "cell_type": "code",
   "execution_count": 219,
   "metadata": {},
   "outputs": [
    {
     "name": "stdout",
     "output_type": "stream",
     "text": [
      "+--------------------+\n",
      "|                   e|\n",
      "+--------------------+\n",
      "|[michael,armbrust...|\n",
      "|[xiangrui,meng,no...|\n",
      "|[matei,null,no-re...|\n",
      "|[matei,null,no-re...|\n",
      "|[michael,armbrust...|\n",
      "|[matei,null,no-re...|\n",
      "|[xiangrui,meng,no...|\n",
      "|[matei,null,no-re...|\n",
      "+--------------------+\n",
      "\n"
     ]
    }
   ],
   "source": [
    "df.show()"
   ]
  },
  {
   "cell_type": "code",
   "execution_count": 240,
   "metadata": {},
   "outputs": [],
   "source": [
    "test_df = spark.read.csv('C:/Users/Lenovo/Desktop/details.csv', header = True)"
   ]
  },
  {
   "cell_type": "code",
   "execution_count": 242,
   "metadata": {},
   "outputs": [],
   "source": [
    "# String concatenation with delimiter\n",
    "\n",
    "from pyspark.sql.functions import concat, col, lit\n",
    "\n",
    "df_concat = test_df.select(concat(test_df.employee, lit(\" \"), test_df.country))"
   ]
  },
  {
   "cell_type": "code",
   "execution_count": 243,
   "metadata": {},
   "outputs": [
    {
     "name": "stdout",
     "output_type": "stream",
     "text": [
      "+----------------------------+\n",
      "|concat(employee,  , country)|\n",
      "+----------------------------+\n",
      "|                 shiva india|\n",
      "|             vicky Singapore|\n",
      "|                varun Canada|\n",
      "|             arun  Singapore|\n",
      "|               hemanth India|\n",
      "|                yugesh India|\n",
      "|                   satish US|\n",
      "+----------------------------+\n",
      "\n"
     ]
    }
   ],
   "source": [
    "\n",
    "df_concat.show()"
   ]
  },
  {
   "cell_type": "code",
   "execution_count": 244,
   "metadata": {},
   "outputs": [
    {
     "name": "stdout",
     "output_type": "stream",
     "text": [
      "+--------+--------+---+---------+-----------------+\n",
      "|employee|   phone|age|  country|           school|\n",
      "+--------+--------+---+---------+-----------------+\n",
      "|   arun |11111111| 25|Singapore|              smu|\n",
      "| hemanth|22443355| 27|    India|  anna university|\n",
      "|  satish|99884400| 27|       US|              ssn|\n",
      "|   shiva|84386483| 27|    india|              nus|\n",
      "|   varun|99999999| 27|   Canada|              ntu|\n",
      "|   vicky|88888888| 31|Singapore|              nus|\n",
      "|  yugesh|33441122| 27|    India|meenakshi college|\n",
      "+--------+--------+---+---------+-----------------+\n",
      "\n"
     ]
    }
   ],
   "source": [
    "from pyspark.sql.functions import asc\n",
    "df_asc = test_df.orderBy(asc(\"employee\"))\n",
    "df_asc.show()"
   ]
  },
  {
   "cell_type": "code",
   "execution_count": 246,
   "metadata": {},
   "outputs": [
    {
     "name": "stdout",
     "output_type": "stream",
     "text": [
      "+---+\n",
      "|age|\n",
      "+---+\n",
      "| 27|\n",
      "| 31|\n",
      "| 27|\n",
      "| 25|\n",
      "| 27|\n",
      "| 27|\n",
      "| 27|\n",
      "+---+\n",
      "\n"
     ]
    }
   ],
   "source": [
    "# Selecting a particular column\n",
    "\n",
    "test_df.select(\"age\").show()"
   ]
  },
  {
   "cell_type": "code",
   "execution_count": 58,
   "metadata": {},
   "outputs": [],
   "source": [
    "# denserank\n",
    "\n",
    "#The difference between rank and denseRank is that denseRank leaves no gaps in ranking sequence when there are ties. \n",
    "#That is, if you were ranking a competition using denseRank and had three people tie for second place, \n",
    "#you would say that all three were in second place and that the next person came in third."
   ]
  },
  {
   "cell_type": "code",
   "execution_count": 188,
   "metadata": {},
   "outputs": [
    {
     "name": "stdout",
     "output_type": "stream",
     "text": [
      "+----+----+\n",
      "|   a|   b|\n",
      "+----+----+\n",
      "|null|null|\n",
      "|   1|null|\n",
      "|null|   2|\n",
      "+----+----+\n",
      "\n"
     ]
    }
   ],
   "source": [
    "# Coalesce - returns the first non Null value\n",
    "\n",
    "cDf = spark.createDataFrame([(None, None), (1, None), (None, 2)], (\"a\", \"b\"))\n",
    "cDf.show()"
   ]
  },
  {
   "cell_type": "code",
   "execution_count": 189,
   "metadata": {},
   "outputs": [
    {
     "name": "stdout",
     "output_type": "stream",
     "text": [
      "+--------------+\n",
      "|coalesce(a, b)|\n",
      "+--------------+\n",
      "|          null|\n",
      "|             1|\n",
      "|             2|\n",
      "+--------------+\n",
      "\n"
     ]
    }
   ],
   "source": [
    "from pyspark.sql.functions import coalesce\n",
    "cDf.select(coalesce(cDf[\"a\"], cDf[\"b\"])).show()"
   ]
  },
  {
   "cell_type": "code",
   "execution_count": 190,
   "metadata": {},
   "outputs": [
    {
     "name": "stdout",
     "output_type": "stream",
     "text": [
      "+----+----+----------------+\n",
      "|   a|   b|coalesce(a, 0.0)|\n",
      "+----+----+----------------+\n",
      "|null|null|             0.0|\n",
      "|   1|null|             1.0|\n",
      "|null|   2|             0.0|\n",
      "+----+----+----------------+\n",
      "\n"
     ]
    }
   ],
   "source": [
    "# retuns the first non Null value else the the mentioned literal\n",
    "\n",
    "cDf.select('*', coalesce(cDf[\"a\"], lit(0.0))).show()"
   ]
  },
  {
   "cell_type": "code",
   "execution_count": 191,
   "metadata": {},
   "outputs": [],
   "source": [
    "# Concatenation of string\n",
    "\n",
    "before_df = spark.createDataFrame([('abcd','123')], ['s', 'd'])"
   ]
  },
  {
   "cell_type": "code",
   "execution_count": 202,
   "metadata": {},
   "outputs": [
    {
     "name": "stdout",
     "output_type": "stream",
     "text": [
      "+----+---+\n",
      "|   s|  d|\n",
      "+----+---+\n",
      "|abcd|123|\n",
      "+----+---+\n",
      "\n"
     ]
    }
   ],
   "source": [
    "before_df.show()"
   ]
  },
  {
   "cell_type": "code",
   "execution_count": 193,
   "metadata": {},
   "outputs": [
    {
     "data": {
      "text/plain": [
       "[Row(s='abcd123')]"
      ]
     },
     "execution_count": 193,
     "metadata": {},
     "output_type": "execute_result"
    }
   ],
   "source": [
    "before_df.select(concat(before_df.s, before_df.d).alias('s')).collect()"
   ]
  },
  {
   "cell_type": "code",
   "execution_count": 194,
   "metadata": {},
   "outputs": [
    {
     "data": {
      "text/plain": [
       "[Row(s='abcd-123')]"
      ]
     },
     "execution_count": 194,
     "metadata": {},
     "output_type": "execute_result"
    }
   ],
   "source": [
    "### Concatenation of string using a delimiter\n",
    "\n",
    "from pyspark.sql.functions import *\n",
    "\n",
    "before_df.select(concat_ws('-', before_df.s, before_df.d).alias('s')).collect()"
   ]
  },
  {
   "cell_type": "code",
   "execution_count": 195,
   "metadata": {},
   "outputs": [
    {
     "data": {
      "text/plain": [
       "[Row(greatest=4)]"
      ]
     },
     "execution_count": 195,
     "metadata": {},
     "output_type": "execute_result"
    }
   ],
   "source": [
    "# greatest among the list of columns\n",
    "\n",
    "greatest_df = spark.createDataFrame([(1, 4, 3)], ['a', 'b', 'c'])\n",
    "greatest_df.select(greatest(greatest_df.a, greatest_df.b, greatest_df.c).alias(\"greatest\")).collect()\n"
   ]
  },
  {
   "cell_type": "code",
   "execution_count": 196,
   "metadata": {},
   "outputs": [
    {
     "data": {
      "text/plain": [
       "[Row(value='SG4205 Information Systems Security'),\n",
       " Row(value='EB5203 Customer Relationship Management'),\n",
       " Row(value=''),\n",
       " Row(value=''),\n",
       " Row(value='KE5207 Computational Intelligence II'),\n",
       " Row(value='EB5202 Web Analytics')]"
      ]
     },
     "execution_count": 196,
     "metadata": {},
     "output_type": "execute_result"
    }
   ],
   "source": [
    "# Loading a text file into a DataFrame\n",
    "\n",
    "text_df = spark.read.text('C:/Users/Lenovo/Desktop/vig_elective_selection.txt')\n",
    "text_df.collect()"
   ]
  },
  {
   "cell_type": "code",
   "execution_count": 197,
   "metadata": {},
   "outputs": [
    {
     "name": "stdout",
     "output_type": "stream",
     "text": [
      "+--------------------+\n",
      "|               value|\n",
      "+--------------------+\n",
      "|SG4205 Informatio...|\n",
      "|EB5203 Customer R...|\n",
      "|                    |\n",
      "|                    |\n",
      "|KE5207 Computatio...|\n",
      "|EB5202 Web Analytics|\n",
      "+--------------------+\n",
      "\n"
     ]
    }
   ],
   "source": [
    "text_df.show()"
   ]
  },
  {
   "cell_type": "code",
   "execution_count": 198,
   "metadata": {},
   "outputs": [
    {
     "name": "stdout",
     "output_type": "stream",
     "text": [
      "+----+----+----+\n",
      "|col1|col2| pow|\n",
      "+----+----+----+\n",
      "|   1|   2| 1.0|\n",
      "|   2|   3| 8.0|\n",
      "|   3|   3|27.0|\n",
      "+----+----+----+\n",
      "\n"
     ]
    }
   ],
   "source": [
    "# Calculate power values\n",
    "\n",
    "from pyspark.sql import Row\n",
    "from pyspark.sql.functions import pow, col\n",
    "\n",
    "row = Row(\"col1\", \"col2\")\n",
    "power_df = sc.parallelize([row(1, 2), row(2, 3), row(3, 3)]).toDF()\n",
    "\n",
    "power_df.select(\"*\", pow(col(\"col1\"), col(\"col2\")).alias(\"pow\")).show()"
   ]
  },
  {
   "cell_type": "code",
   "execution_count": 199,
   "metadata": {},
   "outputs": [
    {
     "data": {
      "text/plain": [
       "[Row(json=Row(a=1))]"
      ]
     },
     "execution_count": 199,
     "metadata": {},
     "output_type": "execute_result"
    }
   ],
   "source": [
    "# Loading a JSON file into DataFrame\n",
    "\n",
    "from pyspark.sql.types import *\n",
    "\n",
    "data = [(1, '''{\"a\": 1}''')]\n",
    "schema = StructType([StructField(\"a\", IntegerType())])\n",
    "json_df = spark.createDataFrame(data, (\"key\", \"value\"))\n",
    "json_df.select(from_json(json_df.value, schema).alias(\"json\")).collect()"
   ]
  },
  {
   "cell_type": "code",
   "execution_count": null,
   "metadata": {},
   "outputs": [],
   "source": []
  }
 ],
 "metadata": {
  "kernelspec": {
   "display_name": "Python 3",
   "language": "python",
   "name": "python3"
  },
  "language_info": {
   "codemirror_mode": {
    "name": "ipython",
    "version": 3
   },
   "file_extension": ".py",
   "mimetype": "text/x-python",
   "name": "python",
   "nbconvert_exporter": "python",
   "pygments_lexer": "ipython3",
   "version": "3.6.5"
  }
 },
 "nbformat": 4,
 "nbformat_minor": 2
}
